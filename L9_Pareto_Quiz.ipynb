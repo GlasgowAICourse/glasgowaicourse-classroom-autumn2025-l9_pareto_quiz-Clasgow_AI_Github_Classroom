{
 "cells": [
  {
   "cell_type": "markdown",
   "id": "93b1ed4f",
   "metadata": {},
   "source": [
    "### **Part 1: Quiz (Multiple Choice Questions)**\n",
    "\n",
    "**Instructions:** For each question, please replace the `[Your Answer Here]` placeholder with the letter of the correct option (e.g., A, B, C, or D)."
   ]
  },
  {
   "cell_type": "markdown",
   "id": "quiz-question-1",
   "metadata": {},
   "source": [
    "**1. What is the primary purpose of the penalty function method in constrained optimization?**\n",
    "\n",
    "A. To increase the complexity of the objective function.\n",
    "\n",
    "B. To transform a constrained optimization problem into an unconstrained one by adding a penalty term for constraint violations.\n",
    "\n",
    "C. To find the global optimum of unconstrained problems.\n",
    "\n",
    "D. To guarantee that the optimization algorithm finds a feasible solution.\n",
    "\n",
    "**Answer 1:** [Your Answer Here]"
   ]
  },
  {
   "cell_type": "markdown",
   "id": "quiz-question-2",
   "metadata": {},
   "source": [
    "**2. In a multiobjective optimization problem, what does it mean for solution A to \"dominate\" solution B?**\n",
    "\n",
    "A. Solution A is better than solution B in all objectives.\n",
    "\n",
    "B. Solution A is better than solution B in at least one objective and not worse in all other objectives.\n",
    "\n",
    "C. Solution A and solution B have the same objective values.\n",
    "\n",
    "D. The objective values of solution A are all smaller than the objective values of solution B.\n",
    "\n",
    "**Answer 2:** [Your Answer Here]"
   ]
  },
  {
   "cell_type": "markdown",
   "id": "quiz-question-3",
   "metadata": {},
   "source": [
    "**3. What is the difference between the Pareto Set (PS) and the Pareto Front (PF) in multiobjective optimization?**\n",
    "\n",
    "A. They are the same thing.\n",
    "\n",
    "B. The PS is the set of optimal solutions in the objective space, while the PF is in the decision space.\n",
    "\n",
    "C. The PS is the set of all Pareto optimal solutions in the decision space, while the PF is the corresponding set of objective function values in the objective space.\n",
    "\n",
    "D. The PS is for minimization problems, while the PF is for maximization problems.\n",
    "\n",
    "**Answer 3:** [Your Answer Here]"
   ]
  },
  {
   "cell_type": "markdown",
   "id": "quiz-question-4",
   "metadata": {},
   "source": [
    "**4. According to the course material, what are the two core principles of the MOEA/D (Multiobjective Evolutionary Algorithm based on Decomposition) algorithm?**\n",
    "\n",
    "A. Selection and Mutation.\n",
    "\n",
    "B. Crossover and Dominance.\n",
    "\n",
    "C. Decomposition and Collaboration.\n",
    "\n",
    "D. Random Search and Elitism.\n",
    "\n",
    "**Answer 4:** [Your Answer Here]"
   ]
  },
  {
   "cell_type": "markdown",
   "id": "quiz-question-5",
   "metadata": {},
   "source": [
    "**5. How are constraints handled within the fitness function for the knapsack problem example using PyGAD?**\n",
    "\n",
    "A. Infeasible solutions are discarded from the population.\n",
    "\n",
    "B. The fitness is calculated as the total value of items, and a penalty is subtracted if weight or volume constraints are violated.\n",
    "\n",
    "C. Only feasible solutions are generated through special operators.\n",
    "\n",
    "D. The algorithm ignores constraints and focuses only on maximizing value.\n",
    "\n",
    "**Answer 5:** [Your Answer Here]"
   ]
  },
  {
   "cell_type": "markdown",
   "id": "quiz-question-6",
   "metadata": {},
   "source": [
    "**6. What is the purpose of the Tchebycheff approach in MOEA/D?**\n",
    "\n",
    "A. To calculate the distance between solutions in the decision space.\n",
    "\n",
    "B. To aggregate multiple objectives into a single scalar value for a given subproblem.\n",
    "\n",
    "C. To ensure all solutions are feasible.\n",
    "\n",
    "D. To select parents for crossover.\n",
    "\n",
    "**Answer 6:** [Your Answer Here]"
   ]
  },
  {
   "cell_type": "markdown",
   "id": "quiz-question-7",
   "metadata": {},
   "source": [
    "**7. In the constrained two-bar truss design case study, how are the multiple constraints integrated into the objective functions?**\n",
    "\n",
    "A. By using the weighted sum method to combine them.\n",
    "\n",
    "B. By applying a separate penalty term for each constraint violation to each of the original objective functions.\n",
    "\n",
    "C. By ensuring the initial population is entirely feasible.\n",
    "\n",
    "D. By discarding any offspring that violate the constraints.\n",
    "\n",
    "**Answer 7:** [Your Answer Here]"
   ]
  },
  {
   "cell_type": "markdown",
   "id": "quiz-question-8",
   "metadata": {},
   "source": [
    "**8. When using the penalty function method, how is the penalty coefficient `k` typically determined?**\n",
    "\n",
    "A. It is always set to a fixed value of 100.\n",
    "\n",
    "B. It is randomly selected at each generation.\n",
    "\n",
    "C. It is calculated based on the expected optimal objective value and an intended acceptable violation level, for instance using the formula $k = 50 * |f| / \\epsilon$.\n",
    "\n",
    "D. It is set to be equal to the number of constraints.\n",
    "\n",
    "**Answer 8:** [Your Answer Here]"
   ]
  },
  {
   "cell_type": "markdown",
   "id": "quiz-question-9",
   "metadata": {},
   "source": [
    "**9. Why is the MOEA/D algorithm often preferred over NSGA-II for engineering problems with a small population size?**\n",
    "\n",
    "A. MOEA/D is simpler to implement.\n",
    "\n",
    "B. MOEA/D's decomposition approach helps in obtaining a more uniform distribution of final solutions, showing superior performance with small populations.\n",
    "\n",
    "C. NSGA-II cannot handle more than two objectives.\n",
    "\n",
    "D. MOEA/D does not require a reference point.\n",
    "\n",
    "**Answer 9:** [Your Answer Here]"
   ]
  },
  {
   "cell_type": "markdown",
   "id": "quiz-question-10",
   "metadata": {},
   "source": [
    "**10. In the pressure vessel design case study, the variables `x1` and `x2` represent thicknesses that can only take on discrete values, while `x3` and `x4` are continuous. How is this mixed-variable type handled in the PyGAD implementation?**\n",
    "\n",
    "A. All variables are treated as continuous, and the final values are rounded.\n",
    "\n",
    "B. The `gene_type` parameter in `pygad.GA` is set to a list specifying the type for each gene, such as `[int, int, float, float]`.\n",
    "\n",
    "C. PyGAD does not support mixed-variable types.\n",
    "\n",
    "D. A special fitness function is used to handle different variable types.\n",
    "\n",
    "**Answer 10:** [Your Answer Here]"
   ]
  }
 ],
 "metadata": {
  "language_info": {
   "name": "python"
  }
 },
 "nbformat": 4,
 "nbformat_minor": 5
}
